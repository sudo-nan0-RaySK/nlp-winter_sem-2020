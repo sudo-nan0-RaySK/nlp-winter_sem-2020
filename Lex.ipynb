{
 "cells": [
  {
   "cell_type": "markdown",
   "metadata": {},
   "source": [
    "# Lexicon Score"
   ]
  },
  {
   "cell_type": "code",
   "execution_count": 18,
   "metadata": {
    "pycharm": {
     "is_executing": false
    }
   },
   "outputs": [],
   "source": [
    "from nltk.corpus import stopwords\n",
    "import nltk"
   ]
  },
  {
   "cell_type": "code",
   "execution_count": 19,
   "metadata": {
    "pycharm": {
     "is_executing": false
    }
   },
   "outputs": [],
   "source": [
    "sw = stopwords.words('english')"
   ]
  },
  {
   "cell_type": "code",
   "execution_count": 20,
   "metadata": {
    "pycharm": {
     "is_executing": false
    }
   },
   "outputs": [
    {
     "name": "stdout",
     "output_type": "stream",
     "text": [
      "[('a', ['AH0']), ('a.', ['EY1']), ('a', ['EY1']), ...]\n"
     ]
    }
   ],
   "source": [
    "entries = nltk.corpus.cmudict.entries()\n",
    "print(entries)"
   ]
  },
  {
   "cell_type": "code",
   "execution_count": 21,
   "metadata": {
    "pycharm": {
     "is_executing": false
    }
   },
   "outputs": [
    {
     "name": "stdout",
     "output_type": "stream",
     "text": [
      "('belford', ['B', 'EH1', 'L', 'F', 'ER0', 'D'])\n",
      "('belfry', ['B', 'EH1', 'L', 'F', 'R', 'IY0'])\n",
      "('belgacom', ['B', 'EH1', 'L', 'G', 'AH0', 'K', 'AA0', 'M'])\n",
      "('belgacom', ['B', 'EH1', 'L', 'JH', 'AH0', 'K', 'AA0', 'M'])\n",
      "('belgard', ['B', 'EH0', 'L', 'G', 'AA1', 'R', 'D'])\n",
      "('belgarde', ['B', 'EH0', 'L', 'G', 'AA1', 'R', 'D', 'IY0'])\n",
      "('belge', ['B', 'EH1', 'L', 'JH', 'IY0'])\n",
      "('belger', ['B', 'EH1', 'L', 'G', 'ER0'])\n",
      "('belgian', ['B', 'EH1', 'L', 'JH', 'AH0', 'N'])\n",
      "('belgians', ['B', 'EH1', 'L', 'JH', 'AH0', 'N', 'Z'])\n",
      "('belgique', ['B', 'EH0', 'L', 'ZH', 'IY1', 'K'])\n",
      "(\"belgique's\", ['B', 'EH0', 'L', 'JH', 'IY1', 'K', 'S'])\n",
      "('belgium', ['B', 'EH1', 'L', 'JH', 'AH0', 'M'])\n",
      "(\"belgium's\", ['B', 'EH1', 'L', 'JH', 'AH0', 'M', 'Z'])\n",
      "('belgo', ['B', 'EH1', 'L', 'G', 'OW2'])\n",
      "('belgrade', ['B', 'EH1', 'L', 'G', 'R', 'EY0', 'D'])\n",
      "('belgrade', ['B', 'EH1', 'L', 'G', 'R', 'AA2', 'D'])\n",
      "(\"belgrade's\", ['B', 'EH1', 'L', 'G', 'R', 'EY0', 'D', 'Z'])\n",
      "(\"belgrade's\", ['B', 'EH1', 'L', 'G', 'R', 'AA2', 'D', 'Z'])\n",
      "('belgrave', ['B', 'EH1', 'L', 'G', 'R', 'EY2', 'V'])\n",
      "('beli', ['B', 'EH1', 'L', 'IY0'])\n",
      "('belich', ['B', 'EH1', 'L', 'IH0', 'K'])\n",
      "('belie', ['B', 'IH0', 'L', 'AY1'])\n",
      "('belied', ['B', 'IH0', 'L', 'AY1', 'D'])\n",
      "('belief', ['B', 'IH0', 'L', 'IY1', 'F'])\n"
     ]
    }
   ],
   "source": [
    "for entry in entries[10000:10025]:\n",
    "    print(entry)"
   ]
  },
  {
   "cell_type": "code",
   "execution_count": 22,
   "metadata": {
    "pycharm": {
     "is_executing": false
    }
   },
   "outputs": [],
   "source": [
    "from nltk.corpus import wordnet as wn"
   ]
  },
  {
   "cell_type": "code",
   "execution_count": 23,
   "metadata": {
    "pycharm": {
     "is_executing": false
    }
   },
   "outputs": [
    {
     "data": {
      "text/plain": [
       "[Synset('car.n.01')]"
      ]
     },
     "execution_count": 23,
     "metadata": {},
     "output_type": "execute_result"
    }
   ],
   "source": [
    "wn.synsets('motorcar')"
   ]
  },
  {
   "cell_type": "code",
   "execution_count": 24,
   "metadata": {
    "pycharm": {
     "is_executing": false
    }
   },
   "outputs": [
    {
     "data": {
      "text/plain": [
       "['car', 'auto', 'automobile', 'machine', 'motorcar']"
      ]
     },
     "execution_count": 24,
     "metadata": {},
     "output_type": "execute_result"
    }
   ],
   "source": [
    "wn.synset('car.n.01').lemma_names()"
   ]
  },
  {
   "cell_type": "markdown",
   "metadata": {},
   "source": [
    "## NLTK Pipelines"
   ]
  },
  {
   "cell_type": "code",
   "execution_count": 25,
   "metadata": {
    "pycharm": {
     "is_executing": false
    }
   },
   "outputs": [],
   "source": [
    "textSet = [\"\"\"Henry William Dalgliesh Cavill (/ˈkævəl/; born 5 May 1983) is an English actor. He began his career with roles in the feature adaptations of The Count of Monte Cristo (2002) and I Capture the Castle (2003). He later appeared in supporting roles in several television series, including BBC's The Inspector Lynley Mysteries, ITV's Midsomer Murders, and Showtime's The Tudors. He has since appeared in numerous major Hollywood films, such as Tristan & Isolde (2006), Stardust (2007), Blood Creek (2009), and Immortals (2011).\"\"\"]"
   ]
  },
  {
   "cell_type": "code",
   "execution_count": 26,
   "metadata": {
    "pycharm": {
     "is_executing": false
    }
   },
   "outputs": [
    {
     "name": "stdout",
     "output_type": "stream",
     "text": [
      "Henry William Dalgliesh Cavill (/ˈkævəl/; born 5 May 1983) is an English actor. He began his career with roles in the feature adaptations of The Count of Monte Cristo (2002) and I Capture the Castle (2003). He later appeared in supporting roles in several television series, including BBC's The Inspector Lynley Mysteries, ITV's Midsomer Murders, and Showtime's The Tudors. He has since appeared in numerous major Hollywood films, such as Tristan & Isolde (2006), Stardust (2007), Blood Creek (2009), and Immortals (2011).\n"
     ]
    }
   ],
   "source": [
    "for text in textSet:\n",
    "    print(text)"
   ]
  },
  {
   "cell_type": "code",
   "execution_count": 27,
   "metadata": {
    "pycharm": {
     "is_executing": false
    }
   },
   "outputs": [
    {
     "name": "stdout",
     "output_type": "stream",
     "text": [
      "[('Henry', 'NNP'), ('William', 'NNP'), ('Dalgliesh', 'NNP'), ('Cavill', 'NNP'), ('(', '('), ('/ˈkævəl/', 'NNP'), (';', ':'), ('born', 'VBN'), ('5', 'CD'), ('May', 'NNP'), ('1983', 'CD'), (')', ')'), ('is', 'VBZ'), ('an', 'DT'), ('English', 'JJ'), ('actor', 'NN'), ('.', '.')]\n",
      "[('He', 'PRP'), ('began', 'VBD'), ('his', 'PRP$'), ('career', 'NN'), ('with', 'IN'), ('roles', 'NNS'), ('in', 'IN'), ('the', 'DT'), ('feature', 'NN'), ('adaptations', 'NNS'), ('of', 'IN'), ('The', 'DT'), ('Count', 'NNP'), ('of', 'IN'), ('Monte', 'NNP'), ('Cristo', 'NNP'), ('(', '('), ('2002', 'CD'), (')', ')'), ('and', 'CC'), ('I', 'PRP'), ('Capture', 'VBP'), ('the', 'DT'), ('Castle', 'NNP'), ('(', '('), ('2003', 'CD'), (')', ')'), ('.', '.')]\n",
      "[('He', 'PRP'), ('later', 'RB'), ('appeared', 'VBD'), ('in', 'IN'), ('supporting', 'VBG'), ('roles', 'NNS'), ('in', 'IN'), ('several', 'JJ'), ('television', 'NN'), ('series', 'NN'), (',', ','), ('including', 'VBG'), ('BBC', 'NNP'), (\"'s\", 'POS'), ('The', 'DT'), ('Inspector', 'NNP'), ('Lynley', 'NNP'), ('Mysteries', 'NNP'), (',', ','), ('ITV', 'NNP'), (\"'s\", 'POS'), ('Midsomer', 'NNP'), ('Murders', 'NNP'), (',', ','), ('and', 'CC'), ('Showtime', 'NNP'), (\"'s\", 'POS'), ('The', 'DT'), ('Tudors', 'NNPS'), ('.', '.')]\n",
      "[('He', 'PRP'), ('has', 'VBZ'), ('since', 'IN'), ('appeared', 'VBN'), ('in', 'IN'), ('numerous', 'JJ'), ('major', 'JJ'), ('Hollywood', 'NNP'), ('films', 'NNS'), (',', ','), ('such', 'JJ'), ('as', 'IN'), ('Tristan', 'NNP'), ('&', 'CC'), ('Isolde', 'NNP'), ('(', '('), ('2006', 'CD'), (')', ')'), (',', ','), ('Stardust', 'NNP'), ('(', '('), ('2007', 'CD'), (')', ')'), (',', ','), ('Blood', 'NNP'), ('Creek', 'NNP'), ('(', '('), ('2009', 'CD'), (')', ')'), (',', ','), ('and', 'CC'), ('Immortals', 'NNP'), ('(', '('), ('2011', 'CD'), (')', ')'), ('.', '.')]\n"
     ]
    }
   ],
   "source": [
    "for text in textSet:\n",
    "    sentences = nltk.sent_tokenize(text)\n",
    "    for sentence in sentences:\n",
    "        words = nltk.word_tokenize(sentence)\n",
    "        tagged_words = nltk.pos_tag(words)\n",
    "        print(tagged_words)"
   ]
  },
  {
   "cell_type": "markdown",
   "metadata": {},
   "source": [
    "# Implementation of Tokenizations"
   ]
  },
  {
   "cell_type": "markdown",
   "metadata": {},
   "source": [
    "### Tweet Tokenizer"
   ]
  },
  {
   "cell_type": "code",
   "execution_count": 28,
   "metadata": {
    "pycharm": {
     "is_executing": false
    }
   },
   "outputs": [],
   "source": [
    "trumpTweet = \"\"\"Democrats are now the party of high taxes, high crime, open borders, late-term abortion, socialism, and blatant corruption. The Republican Party is the party of the American Worker, the American Family, and the American Dream! #KAG2020\"\"\""
   ]
  },
  {
   "cell_type": "code",
   "execution_count": 29,
   "metadata": {
    "pycharm": {
     "is_executing": false
    }
   },
   "outputs": [],
   "source": [
    "# import TweetTokenizer() method from nltk \n",
    "from nltk.tokenize import TweetTokenizer \n",
    "  \n",
    "# Create a reference variable for Class TweetTokenizer \n",
    "tk = TweetTokenizer() "
   ]
  },
  {
   "cell_type": "code",
   "execution_count": 30,
   "metadata": {
    "pycharm": {
     "is_executing": false
    }
   },
   "outputs": [],
   "source": [
    "tweet = tk.tokenize(trumpTweet)"
   ]
  },
  {
   "cell_type": "code",
   "execution_count": 31,
   "metadata": {
    "pycharm": {
     "is_executing": false
    }
   },
   "outputs": [
    {
     "name": "stdout",
     "output_type": "stream",
     "text": [
      "['Democrats', 'are', 'now', 'the', 'party', 'of', 'high', 'taxes', ',', 'high', 'crime', ',', 'open', 'borders', ',', 'late-term', 'abortion', ',', 'socialism', ',', 'and', 'blatant', 'corruption', '.', 'The', 'Republican', 'Party', 'is', 'the', 'party', 'of', 'the', 'American', 'Worker', ',', 'the', 'American', 'Family', ',', 'and', 'the', 'American', 'Dream', '!', '#KAG2020']\n"
     ]
    }
   ],
   "source": [
    "print(tweet)"
   ]
  },
  {
   "cell_type": "markdown",
   "metadata": {},
   "source": [
    "## Frequency Distribution"
   ]
  },
  {
   "cell_type": "code",
   "execution_count": 32,
   "metadata": {
    "pycharm": {
     "is_executing": false
    }
   },
   "outputs": [],
   "source": [
    "from nltk.corpus import brown"
   ]
  },
  {
   "cell_type": "code",
   "execution_count": 33,
   "metadata": {
    "pycharm": {
     "is_executing": false,
     "name": "#%%\n"
    }
   },
   "outputs": [
    {
     "name": "stdout",
     "output_type": "stream",
     "text": [
      "['The', 'Fulton', 'County', 'Grand', 'Jury', 'said', ...]\n"
     ]
    }
   ],
   "source": [
    "news = brown.words(categories=\"news\")\n",
    "print(news)\n"
   ]
  },
  {
   "cell_type": "markdown",
   "metadata": {
    "jupyter": {
     "outputs_hidden": false
    },
    "pycharm": {
     "name": "#%%\n"
    }
   },
   "source": [
    "## Performance of Stemmers\n"
   ]
  },
  {
   "cell_type": "code",
   "execution_count": 8,
   "metadata": {},
   "outputs": [],
   "source": [
    "import nltk\n",
    "from nltk.stem import PorterStemmer\n",
    "from nltk.stem import LancasterStemmer"
   ]
  },
  {
   "cell_type": "code",
   "execution_count": 20,
   "metadata": {},
   "outputs": [
    {
     "data": {
      "text/plain": [
       "'varieti'"
      ]
     },
     "execution_count": 20,
     "metadata": {},
     "output_type": "execute_result"
    }
   ],
   "source": [
    "porterstemmer = PorterStemmer()\n",
    "porterstemmer.stem('happiness')\n",
    "porterstemmer.stem('functionality')\n",
    "# porterstemmer.stem('inflamation')\n",
    "porterstemmer.stem('variety')"
   ]
  },
  {
   "cell_type": "markdown",
   "metadata": {},
   "source": [
    "## Passed Words"
   ]
  },
  {
   "cell_type": "code",
   "execution_count": null,
   "metadata": {},
   "outputs": [],
   "source": []
  },
  {
   "cell_type": "code",
   "execution_count": 10,
   "metadata": {},
   "outputs": [
    {
     "data": {
      "text/plain": [
       "'sing'"
      ]
     },
     "execution_count": 10,
     "metadata": {},
     "output_type": "execute_result"
    }
   ],
   "source": [
    "lancaster = LancasterStemmer()\n",
    "lancaster.stem('Sing')"
   ]
  },
  {
   "cell_type": "code",
   "execution_count": 11,
   "metadata": {},
   "outputs": [],
   "source": [
    "from nltk.stem import RegexpStemmer"
   ]
  },
  {
   "cell_type": "code",
   "execution_count": 12,
   "metadata": {},
   "outputs": [
    {
     "data": {
      "text/plain": [
       "'s'"
      ]
     },
     "execution_count": 12,
     "metadata": {},
     "output_type": "execute_result"
    }
   ],
   "source": [
    "regex = RegexpStemmer('ing')\n",
    "regex.stem('sing')\n"
   ]
  },
  {
   "cell_type": "code",
   "execution_count": 13,
   "metadata": {},
   "outputs": [],
   "source": [
    "from nltk.stem import SnowballStemmer"
   ]
  },
  {
   "cell_type": "code",
   "execution_count": 15,
   "metadata": {},
   "outputs": [
    {
     "data": {
      "text/plain": [
       "16"
      ]
     },
     "execution_count": 15,
     "metadata": {},
     "output_type": "execute_result"
    }
   ],
   "source": [
    "len(SnowballStemmer.languages)"
   ]
  },
  {
   "cell_type": "code",
   "execution_count": 16,
   "metadata": {},
   "outputs": [],
   "source": [
    "frenchStemmer = SnowballStemmer('french')"
   ]
  },
  {
   "cell_type": "code",
   "execution_count": 17,
   "metadata": {},
   "outputs": [
    {
     "data": {
      "text/plain": [
       "'mang'"
      ]
     },
     "execution_count": 17,
     "metadata": {},
     "output_type": "execute_result"
    }
   ],
   "source": [
    "frenchStemmer.stem('manges')"
   ]
  },
  {
   "cell_type": "code",
   "execution_count": 21,
   "metadata": {},
   "outputs": [],
   "source": [
    "from nltk.stem import WordNetLemmatizer "
   ]
  },
  {
   "cell_type": "code",
   "execution_count": 22,
   "metadata": {},
   "outputs": [
    {
     "name": "stdout",
     "output_type": "stream",
     "text": [
      "Am\n"
     ]
    }
   ],
   "source": [
    "lemmatizer = WordNetLemmatizer()\n",
    "print(lemmatizer.lemmatize(\"Am\"))"
   ]
  },
  {
   "cell_type": "code",
   "execution_count": 23,
   "metadata": {},
   "outputs": [
    {
     "name": "stdout",
     "output_type": "stream",
     "text": [
      "cactus\n"
     ]
    }
   ],
   "source": [
    "print(lemmatizer.lemmatize(\"cacti\"))"
   ]
  },
  {
   "cell_type": "code",
   "execution_count": 24,
   "metadata": {},
   "outputs": [
    {
     "name": "stdout",
     "output_type": "stream",
     "text": [
      "corpus\n"
     ]
    }
   ],
   "source": [
    "print(lemmatizer.lemmatize(\"corpora\"))"
   ]
  },
  {
   "cell_type": "code",
   "execution_count": 25,
   "metadata": {},
   "outputs": [
    {
     "name": "stdout",
     "output_type": "stream",
     "text": [
      "good\n"
     ]
    }
   ],
   "source": [
    "print(lemmatizer.lemmatize(\"better\",pos=\"a\"))"
   ]
  },
  {
   "cell_type": "raw",
   "metadata": {},
   "source": [
    "print(lemmatizer.lemmatize(\"better\"))"
   ]
  },
  {
   "cell_type": "code",
   "execution_count": 27,
   "metadata": {},
   "outputs": [],
   "source": [
    "example = \"\"\"Henry William Dalgliesh Cavill (/ˈkævəl/; born 5 May 1983) is an English actor. He began his career with roles in the feature adaptations of The Count of Monte Cristo (2002) and I Capture the Castle (2003). He later appeared in supporting roles in several television series, including BBC's The Inspector Lynley Mysteries, ITV's Midsomer Murders, and Showtime's The Tudors. He has since appeared in numerous major Hollywood films, such as Tristan & Isolde (2006), Stardust (2007), Blood Creek (2009), and Immortals (2011).\"\"\""
   ]
  },
  {
   "cell_type": "code",
   "execution_count": 28,
   "metadata": {},
   "outputs": [],
   "source": [
    "example = [porterstemmer.stem(token) for token in example.split(' ')]"
   ]
  },
  {
   "cell_type": "code",
   "execution_count": 29,
   "metadata": {},
   "outputs": [
    {
     "name": "stdout",
     "output_type": "stream",
     "text": [
      "henri william dalgliesh cavil (/ˈkævəl/; born 5 may 1983) is an english actor. He began hi career with role in the featur adapt of the count of mont cristo (2002) and I captur the castl (2003). He later appear in support role in sever televis series, includ bbc' the inspector lynley mysteries, itv' midsom murders, and showtime' the tudors. He ha sinc appear in numer major hollywood films, such as tristan & isold (2006), stardust (2007), blood creek (2009), and immort (2011).\n"
     ]
    }
   ],
   "source": [
    "print(\" \".join(example))"
   ]
  },
  {
   "cell_type": "code",
   "execution_count": 31,
   "metadata": {},
   "outputs": [
    {
     "name": "stdout",
     "output_type": "stream",
     "text": [
      "Henry William Dalgliesh Cavill (/ˈkævəl/; born 5 May 1983) is an English actor. He began his career with role in the feature adaptation of The Count of Monte Cristo (2002) and I Capture the Castle (2003). He later appeared in supporting role in several television series, including BBC's The Inspector Lynley Mysteries, ITV's Midsomer Murders, and Showtime's The Tudors. He ha since appeared in numerous major Hollywood films, such a Tristan & Isolde (2006), Stardust (2007), Blood Creek (2009), and Immortals (2011).\n"
     ]
    }
   ],
   "source": [
    "example = \"\"\"Henry William Dalgliesh Cavill (/ˈkævəl/; born 5 May 1983) is an English actor. He began his career with roles in the feature adaptations of The Count of Monte Cristo (2002) and I Capture the Castle (2003). He later appeared in supporting roles in several television series, including BBC's The Inspector Lynley Mysteries, ITV's Midsomer Murders, and Showtime's The Tudors. He has since appeared in numerous major Hollywood films, such as Tristan & Isolde (2006), Stardust (2007), Blood Creek (2009), and Immortals (2011).\"\"\"\n",
    "example = [lemmatizer.lemmatize(token) for token in example.split(' ')]\n",
    "print(\" \".join(example))"
   ]
  },
  {
   "cell_type": "code",
   "execution_count": 32,
   "metadata": {},
   "outputs": [],
   "source": [
    "example = \"\"\"Henry William Dalgliesh Cavill (/ˈkævəl/; born 5 May 1983) is an English actor. He began his career with roles in the feature adaptations of The Count of Monte Cristo (2002) and I Capture the Castle (2003). He later appeared in supporting roles in several television series, including BBC's The Inspector Lynley Mysteries, ITV's Midsomer Murders, and Showtime's The Tudors. He has since appeared in numerous major Hollywood films, such as Tristan & Isolde (2006), Stardust (2007), Blood Creek (2009), and Immortals (2011).\"\"\""
   ]
  },
  {
   "cell_type": "markdown",
   "metadata": {},
   "source": [
    "# TF-IDF and Vectorization"
   ]
  },
  {
   "cell_type": "code",
   "execution_count": 37,
   "metadata": {},
   "outputs": [
    {
     "name": "stdout",
     "output_type": "stream",
     "text": [
      "Requirement already satisfied: sklearn in /usr/local/lib/python3.7/site-packages (0.0)\n",
      "Requirement already satisfied: scikit-learn in /usr/local/lib/python3.7/site-packages (from sklearn) (0.21.3)\n",
      "Requirement already satisfied: numpy>=1.11.0 in /usr/local/lib/python3.7/site-packages (from scikit-learn->sklearn) (1.16.4)\n",
      "Requirement already satisfied: scipy>=0.17.0 in /usr/local/lib/python3.7/site-packages (from scikit-learn->sklearn) (1.3.1)\n",
      "Requirement already satisfied: joblib>=0.11 in /usr/local/lib/python3.7/site-packages (from scikit-learn->sklearn) (0.14.0)\n"
     ]
    }
   ],
   "source": [
    "!pip3 install sklearn"
   ]
  },
  {
   "cell_type": "code",
   "execution_count": null,
   "metadata": {},
   "outputs": [],
   "source": []
  }
 ],
 "metadata": {
  "kernelspec": {
   "display_name": "Python 3",
   "language": "python",
   "name": "python3"
  },
  "language_info": {
   "codemirror_mode": {
    "name": "ipython",
    "version": 3
   },
   "file_extension": ".py",
   "mimetype": "text/x-python",
   "name": "python",
   "nbconvert_exporter": "python",
   "pygments_lexer": "ipython3",
   "version": "3.7.4"
  },
  "pycharm": {
   "stem_cell": {
    "cell_type": "raw",
    "metadata": {
     "collapsed": false
    },
    "source": []
   }
  }
 },
 "nbformat": 4,
 "nbformat_minor": 4
}
