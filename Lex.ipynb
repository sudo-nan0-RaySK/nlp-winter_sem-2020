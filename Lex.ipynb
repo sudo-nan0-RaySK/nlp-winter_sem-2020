{
 "cells": [
  {
   "cell_type": "markdown",
   "metadata": {},
   "source": [
    "# Lexicon Score"
   ]
  },
  {
   "cell_type": "code",
   "execution_count": 3,
   "metadata": {},
   "outputs": [],
   "source": [
    "from nltk.corpus import stopwords\n",
    "import nltk"
   ]
  },
  {
   "cell_type": "code",
   "execution_count": 8,
   "metadata": {},
   "outputs": [],
   "source": [
    "sw = stopwords.words('english')"
   ]
  },
  {
   "cell_type": "code",
   "execution_count": 9,
   "metadata": {},
   "outputs": [
    {
     "name": "stdout",
     "output_type": "stream",
     "text": [
      "[('a', ['AH0']), ('a.', ['EY1']), ('a', ['EY1']), ...]\n"
     ]
    }
   ],
   "source": [
    "entries = nltk.corpus.cmudict.entries()\n",
    "print(entries)"
   ]
  },
  {
   "cell_type": "code",
   "execution_count": 10,
   "metadata": {},
   "outputs": [
    {
     "name": "stdout",
     "output_type": "stream",
     "text": [
      "('belford', ['B', 'EH1', 'L', 'F', 'ER0', 'D'])\n",
      "('belfry', ['B', 'EH1', 'L', 'F', 'R', 'IY0'])\n",
      "('belgacom', ['B', 'EH1', 'L', 'G', 'AH0', 'K', 'AA0', 'M'])\n",
      "('belgacom', ['B', 'EH1', 'L', 'JH', 'AH0', 'K', 'AA0', 'M'])\n",
      "('belgard', ['B', 'EH0', 'L', 'G', 'AA1', 'R', 'D'])\n",
      "('belgarde', ['B', 'EH0', 'L', 'G', 'AA1', 'R', 'D', 'IY0'])\n",
      "('belge', ['B', 'EH1', 'L', 'JH', 'IY0'])\n",
      "('belger', ['B', 'EH1', 'L', 'G', 'ER0'])\n",
      "('belgian', ['B', 'EH1', 'L', 'JH', 'AH0', 'N'])\n",
      "('belgians', ['B', 'EH1', 'L', 'JH', 'AH0', 'N', 'Z'])\n",
      "('belgique', ['B', 'EH0', 'L', 'ZH', 'IY1', 'K'])\n",
      "(\"belgique's\", ['B', 'EH0', 'L', 'JH', 'IY1', 'K', 'S'])\n",
      "('belgium', ['B', 'EH1', 'L', 'JH', 'AH0', 'M'])\n",
      "(\"belgium's\", ['B', 'EH1', 'L', 'JH', 'AH0', 'M', 'Z'])\n",
      "('belgo', ['B', 'EH1', 'L', 'G', 'OW2'])\n",
      "('belgrade', ['B', 'EH1', 'L', 'G', 'R', 'EY0', 'D'])\n",
      "('belgrade', ['B', 'EH1', 'L', 'G', 'R', 'AA2', 'D'])\n",
      "(\"belgrade's\", ['B', 'EH1', 'L', 'G', 'R', 'EY0', 'D', 'Z'])\n",
      "(\"belgrade's\", ['B', 'EH1', 'L', 'G', 'R', 'AA2', 'D', 'Z'])\n",
      "('belgrave', ['B', 'EH1', 'L', 'G', 'R', 'EY2', 'V'])\n",
      "('beli', ['B', 'EH1', 'L', 'IY0'])\n",
      "('belich', ['B', 'EH1', 'L', 'IH0', 'K'])\n",
      "('belie', ['B', 'IH0', 'L', 'AY1'])\n",
      "('belied', ['B', 'IH0', 'L', 'AY1', 'D'])\n",
      "('belief', ['B', 'IH0', 'L', 'IY1', 'F'])\n"
     ]
    }
   ],
   "source": [
    "for entry in entries[10000:10025]:\n",
    "    print(entry)"
   ]
  },
  {
   "cell_type": "code",
   "execution_count": 11,
   "metadata": {},
   "outputs": [],
   "source": [
    "from nltk.corpus import wordnet as wn"
   ]
  },
  {
   "cell_type": "code",
   "execution_count": 15,
   "metadata": {},
   "outputs": [
    {
     "data": {
      "text/plain": [
       "[Synset('car.n.01')]"
      ]
     },
     "execution_count": 15,
     "metadata": {},
     "output_type": "execute_result"
    }
   ],
   "source": [
    "wn.synsets('motorcar')"
   ]
  },
  {
   "cell_type": "code",
   "execution_count": 24,
   "metadata": {},
   "outputs": [
    {
     "data": {
      "text/plain": [
       "['car', 'auto', 'automobile', 'machine', 'motorcar']"
      ]
     },
     "execution_count": 24,
     "metadata": {},
     "output_type": "execute_result"
    }
   ],
   "source": [
    "wn.synset('car.n.01').lemma_names()"
   ]
  },
  {
   "cell_type": "markdown",
   "metadata": {},
   "source": [
    "## NLTK Pipelines"
   ]
  },
  {
   "cell_type": "code",
   "execution_count": 27,
   "metadata": {},
   "outputs": [],
   "source": [
    "textSet = [\"\"\"Henry William Dalgliesh Cavill (/ˈkævəl/; born 5 May 1983) is an English actor. He began his career with roles in the feature adaptations of The Count of Monte Cristo (2002) and I Capture the Castle (2003). He later appeared in supporting roles in several television series, including BBC's The Inspector Lynley Mysteries, ITV's Midsomer Murders, and Showtime's The Tudors. He has since appeared in numerous major Hollywood films, such as Tristan & Isolde (2006), Stardust (2007), Blood Creek (2009), and Immortals (2011).\"\"\"]"
   ]
  },
  {
   "cell_type": "code",
   "execution_count": 28,
   "metadata": {},
   "outputs": [
    {
     "name": "stdout",
     "output_type": "stream",
     "text": [
      "Henry William Dalgliesh Cavill (/ˈkævəl/; born 5 May 1983) is an English actor. He began his career with roles in the feature adaptations of The Count of Monte Cristo (2002) and I Capture the Castle (2003). He later appeared in supporting roles in several television series, including BBC's The Inspector Lynley Mysteries, ITV's Midsomer Murders, and Showtime's The Tudors. He has since appeared in numerous major Hollywood films, such as Tristan & Isolde (2006), Stardust (2007), Blood Creek (2009), and Immortals (2011).\n"
     ]
    }
   ],
   "source": [
    "for text in textSet:\n",
    "    print(text)"
   ]
  },
  {
   "cell_type": "code",
   "execution_count": 31,
   "metadata": {},
   "outputs": [
    {
     "name": "stdout",
     "output_type": "stream",
     "text": [
      "[('Henry', 'NNP'), ('William', 'NNP'), ('Dalgliesh', 'NNP'), ('Cavill', 'NNP'), ('(', '('), ('/ˈkævəl/', 'NNP'), (';', ':'), ('born', 'VBN'), ('5', 'CD'), ('May', 'NNP'), ('1983', 'CD'), (')', ')'), ('is', 'VBZ'), ('an', 'DT'), ('English', 'JJ'), ('actor', 'NN'), ('.', '.')]\n",
      "[('He', 'PRP'), ('began', 'VBD'), ('his', 'PRP$'), ('career', 'NN'), ('with', 'IN'), ('roles', 'NNS'), ('in', 'IN'), ('the', 'DT'), ('feature', 'NN'), ('adaptations', 'NNS'), ('of', 'IN'), ('The', 'DT'), ('Count', 'NNP'), ('of', 'IN'), ('Monte', 'NNP'), ('Cristo', 'NNP'), ('(', '('), ('2002', 'CD'), (')', ')'), ('and', 'CC'), ('I', 'PRP'), ('Capture', 'VBP'), ('the', 'DT'), ('Castle', 'NNP'), ('(', '('), ('2003', 'CD'), (')', ')'), ('.', '.')]\n",
      "[('He', 'PRP'), ('later', 'RB'), ('appeared', 'VBD'), ('in', 'IN'), ('supporting', 'VBG'), ('roles', 'NNS'), ('in', 'IN'), ('several', 'JJ'), ('television', 'NN'), ('series', 'NN'), (',', ','), ('including', 'VBG'), ('BBC', 'NNP'), (\"'s\", 'POS'), ('The', 'DT'), ('Inspector', 'NNP'), ('Lynley', 'NNP'), ('Mysteries', 'NNP'), (',', ','), ('ITV', 'NNP'), (\"'s\", 'POS'), ('Midsomer', 'NNP'), ('Murders', 'NNP'), (',', ','), ('and', 'CC'), ('Showtime', 'NNP'), (\"'s\", 'POS'), ('The', 'DT'), ('Tudors', 'NNPS'), ('.', '.')]\n",
      "[('He', 'PRP'), ('has', 'VBZ'), ('since', 'IN'), ('appeared', 'VBN'), ('in', 'IN'), ('numerous', 'JJ'), ('major', 'JJ'), ('Hollywood', 'NNP'), ('films', 'NNS'), (',', ','), ('such', 'JJ'), ('as', 'IN'), ('Tristan', 'NNP'), ('&', 'CC'), ('Isolde', 'NNP'), ('(', '('), ('2006', 'CD'), (')', ')'), (',', ','), ('Stardust', 'NNP'), ('(', '('), ('2007', 'CD'), (')', ')'), (',', ','), ('Blood', 'NNP'), ('Creek', 'NNP'), ('(', '('), ('2009', 'CD'), (')', ')'), (',', ','), ('and', 'CC'), ('Immortals', 'NNP'), ('(', '('), ('2011', 'CD'), (')', ')'), ('.', '.')]\n"
     ]
    }
   ],
   "source": [
    "for text in textSet:\n",
    "    sentences = nltk.sent_tokenize(text)\n",
    "    for sentence in sentences:\n",
    "        words = nltk.word_tokenize(sentence)\n",
    "        tagged_words = nltk.pos_tag(words)\n",
    "        print(tagged_words)"
   ]
  },
  {
   "cell_type": "markdown",
   "metadata": {},
   "source": [
    "# Implementation of Tokenizations"
   ]
  },
  {
   "cell_type": "markdown",
   "metadata": {},
   "source": [
    "### Tweet Tokenizer"
   ]
  },
  {
   "cell_type": "code",
   "execution_count": 1,
   "metadata": {},
   "outputs": [],
   "source": [
    "trumpTweet = \"\"\"Democrats are now the party of high taxes, high crime, open borders, late-term abortion, socialism, and blatant corruption. The Republican Party is the party of the American Worker, the American Family, and the American Dream! #KAG2020\"\"\""
   ]
  },
  {
   "cell_type": "code",
   "execution_count": 2,
   "metadata": {},
   "outputs": [],
   "source": [
    "# import TweetTokenizer() method from nltk \n",
    "from nltk.tokenize import TweetTokenizer \n",
    "  \n",
    "# Create a reference variable for Class TweetTokenizer \n",
    "tk = TweetTokenizer() "
   ]
  },
  {
   "cell_type": "code",
   "execution_count": 3,
   "metadata": {},
   "outputs": [],
   "source": [
    "tweet = tk.tokenize(trumpTweet)"
   ]
  },
  {
   "cell_type": "code",
   "execution_count": 4,
   "metadata": {},
   "outputs": [
    {
     "name": "stdout",
     "output_type": "stream",
     "text": [
      "['Democrats', 'are', 'now', 'the', 'party', 'of', 'high', 'taxes', ',', 'high', 'crime', ',', 'open', 'borders', ',', 'late-term', 'abortion', ',', 'socialism', ',', 'and', 'blatant', 'corruption', '.', 'The', 'Republican', 'Party', 'is', 'the', 'party', 'of', 'the', 'American', 'Worker', ',', 'the', 'American', 'Family', ',', 'and', 'the', 'American', 'Dream', '!', '#KAG2020']\n"
     ]
    }
   ],
   "source": [
    "print(tweet)"
   ]
  },
  {
   "cell_type": "markdown",
   "metadata": {},
   "source": [
    "## Frequency Distribution"
   ]
  },
  {
   "cell_type": "code",
   "execution_count": 5,
   "metadata": {},
   "outputs": [],
   "source": [
    "from nltk.corpus import brown"
   ]
  },
  {
   "cell_type": "code",
   "execution_count": 10,
   "metadata": {},
   "outputs": [
    {
     "name": "stdout",
     "output_type": "stream",
     "text": [
      "['The', 'Fulton', 'County', 'Grand', 'Jury', 'said', ...]\n"
     ]
    }
   ],
   "source": [
    "news = brown.words(categories=\"news\")\n",
    "print(news)"
   ]
  },
  {
   "cell_type": "code",
   "execution_count": null,
   "metadata": {},
   "outputs": [],
   "source": []
  }
 ],
 "metadata": {
  "kernelspec": {
   "display_name": "Python 3",
   "language": "python",
   "name": "python3"
  },
  "language_info": {
   "codemirror_mode": {
    "name": "ipython",
    "version": 3
   },
   "file_extension": ".py",
   "mimetype": "text/x-python",
   "name": "python",
   "nbconvert_exporter": "python",
   "pygments_lexer": "ipython3",
   "version": "3.7.4"
  }
 },
 "nbformat": 4,
 "nbformat_minor": 4
}
